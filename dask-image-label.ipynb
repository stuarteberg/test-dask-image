{
 "cells": [
  {
   "cell_type": "markdown",
   "metadata": {},
   "source": [
    "### Prerequisites\n",
    "\n",
    "If you don't already have conda installed, [see here and follow step 0][1]\n",
    "\n",
    "[1]: https://github.com/janelia-flyem/flyemflows/blob/master/docs/flyem-quickstart.md\n",
    "\n",
    "Then run the following commands from a cluster node.\n",
    "    \n",
    "```bash\n",
    "conda create -n test-dask-image -c conda-forge dask distributed dask-jobqueue z5py jupyterlab matplotlib\n",
    "conda activate test-dask-image\n",
    "\n",
    "# Sadly, the latest release does not yet include the distributed\n",
    "# version of the label() function.\n",
    "# To get it, we must install from their git repo.\n",
    "conda install --only-deps -c conda-forge dask-image\n",
    "git clone https://github.com/dask/dask-image\n",
    "cd dask-image\n",
    "python -m pip install --no-deps --ignore-installed .\n",
    "\n",
    "# Start jupyter-lab\n",
    "jupyter-lab --ip=\"0.0.0.0\" --no-browser\n",
    "```\n"
   ]
  },
  {
   "cell_type": "code",
   "execution_count": 1,
   "metadata": {},
   "outputs": [],
   "source": [
    "%matplotlib inline"
   ]
  },
  {
   "cell_type": "code",
   "execution_count": 2,
   "metadata": {},
   "outputs": [],
   "source": [
    "import os\n",
    "import getpass\n",
    "\n",
    "import dask\n",
    "import dask.array as da\n",
    "\n",
    "import dask_image.ndmeasure\n",
    "import matplotlib.pyplot as plt\n",
    "\n",
    "import z5py # Can read N5 and Zarr\n",
    "\n",
    "# See lsf_cluster_example.py for details\n",
    "from lsf_cluster_example import init_cluster"
   ]
  },
  {
   "cell_type": "markdown",
   "metadata": {},
   "source": [
    "#### Create a dask cluster"
   ]
  },
  {
   "cell_type": "code",
   "execution_count": 3,
   "metadata": {},
   "outputs": [
    {
     "name": "stdout",
     "output_type": "stream",
     "text": [
      "Waiting for 2 workers...\n",
      "Waiting for 2 workers...\n",
      "Waiting for 2 workers...\n",
      "Waiting for 2 workers...\n"
     ]
    }
   ],
   "source": [
    "USER = getpass.getuser()\n",
    "\n",
    "# See example-dask-config.yaml for more config options.\n",
    "dask.config.set({'jobqueue':\n",
    "                    {'lsf':\n",
    "                      {'processes': 1,\n",
    "                       'cores': 1,\n",
    "                       'memory': '15GB',\n",
    "                       'walltime': '01:00',\n",
    "                       'log-directory': 'dask-logs',\n",
    "                       'local-directory': f'/scratch/{USER}',\n",
    "                       'use-stdin': True\n",
    "                }}})\n",
    "\n",
    "# After the cluster starts, it's globally visible\n",
    "# and all dask workloads will use it.\n",
    "NUM_CPUS = 2\n",
    "client = init_cluster(NUM_CPUS)"
   ]
  },
  {
   "cell_type": "code",
   "execution_count": 4,
   "metadata": {},
   "outputs": [
    {
     "data": {
      "text/html": [
       "<table style=\"border: 2px solid white;\">\n",
       "<tr>\n",
       "<td style=\"vertical-align: top; border: 0px solid white\">\n",
       "<h3 style=\"text-align: left;\">Client</h3>\n",
       "<ul style=\"text-align: left; list-style: none; margin: 0; padding: 0;\">\n",
       "  <li><b>Scheduler: </b>tcp://10.36.111.13:45418</li>\n",
       "  <li><b>Dashboard: </b><a href='http://10.36.111.13:8787/status' target='_blank'>http://10.36.111.13:8787/status</a>\n",
       "</ul>\n",
       "</td>\n",
       "<td style=\"vertical-align: top; border: 0px solid white\">\n",
       "<h3 style=\"text-align: left;\">Cluster</h3>\n",
       "<ul style=\"text-align: left; list-style:none; margin: 0; padding: 0;\">\n",
       "  <li><b>Workers: </b>2</li>\n",
       "  <li><b>Cores: </b>2</li>\n",
       "  <li><b>Memory: </b>30.00 GB</li>\n",
       "</ul>\n",
       "</td>\n",
       "</tr>\n",
       "</table>"
      ],
      "text/plain": [
       "<Client: 'tcp://10.36.111.13:45418' processes=2 threads=2, memory=30.00 GB>"
      ]
     },
     "execution_count": 4,
     "metadata": {},
     "output_type": "execute_result"
    }
   ],
   "source": [
    "# Monitor progress via the dashboard link shown below\n",
    "client"
   ]
  },
  {
   "cell_type": "markdown",
   "metadata": {},
   "source": [
    "#### Create a tiny test volume"
   ]
  },
  {
   "cell_type": "code",
   "execution_count": 5,
   "metadata": {},
   "outputs": [],
   "source": [
    "def fill_sphere(volume, center, radius, label=1):\n",
    "    cz, cy, cx = center\n",
    "    z, y, x = np.indices(volume.shape)\n",
    "    distances = np.sqrt((z-cz)**2 + (y-cy)**2 + (x-cx)**2)\n",
    "    volume[(distances < radius)] = label\n",
    "\n",
    "shape = np.array([128, 256, 256])\n",
    "dtype = np.uint8\n",
    "vol = np.zeros(shape, dtype)\n",
    "fill_sphere(vol, (64,64,64), 20)\n",
    "fill_sphere(vol, (64,192,192), 20)"
   ]
  },
  {
   "cell_type": "code",
   "execution_count": 6,
   "metadata": {},
   "outputs": [
    {
     "data": {
      "image/png": "[encoded data removed]",
      "text/plain": [
       "<Figure size 432x288 with 1 Axes>"
      ]
     },
     "metadata": {
      "needs_background": "light"
     },
     "output_type": "display_data"
    }
   ],
   "source": [
    "# Show the middle slice\n",
    "plt.imshow(vol[64]);"
   ]
  },
  {
   "cell_type": "markdown",
   "metadata": {},
   "source": [
    "#### Save as N5"
   ]
  },
  {
   "cell_type": "code",
   "execution_count": 7,
   "metadata": {},
   "outputs": [],
   "source": [
    "n5_path = os.environ['HOME'] + '/test.n5'\n",
    "CHUNKS = (64,64,64)\n",
    "with z5py.File(n5_path, 'w') as f:\n",
    "    f.create_dataset('fake-organelles', data=vol, chunks=CHUNKS)"
   ]
  },
  {
   "cell_type": "markdown",
   "metadata": {},
   "source": [
    "#### Create a dask-array that will be loaded from the N5 volume"
   ]
  },
  {
   "cell_type": "code",
   "execution_count": 8,
   "metadata": {},
   "outputs": [],
   "source": [
    "def read_block(_orig, block_info):\n",
    "    slicing = tuple(slice(a,b) for a,b in block_info[None]['array-location'])\n",
    "    with z5py.File(n5_path, 'r') as f:\n",
    "        return f['fake-organelles'][slicing]\n",
    "\n",
    "dset = z5py.File(n5_path, 'r')['fake-organelles']\n",
    "arr = da.empty_like(dset, chunks=CHUNKS).map_blocks(read_block, meta={'dtype': dtype})"
   ]
  },
  {
   "cell_type": "markdown",
   "metadata": {},
   "source": [
    "#### Label the connected components"
   ]
  },
  {
   "cell_type": "code",
   "execution_count": 9,
   "metadata": {},
   "outputs": [],
   "source": [
    "labeled, num_labels = dask_image.ndmeasure.label(arr)\n",
    "labeled = labeled.compute()"
   ]
  },
  {
   "cell_type": "markdown",
   "metadata": {},
   "source": [
    "#### Check a slice of the results"
   ]
  },
  {
   "cell_type": "code",
   "execution_count": 10,
   "metadata": {},
   "outputs": [
    {
     "data": {
      "image/png": "[encoded data removed]",
      "text/plain": [
       "<Figure size 432x288 with 1 Axes>"
      ]
     },
     "metadata": {
      "needs_background": "light"
     },
     "output_type": "display_data"
    }
   ],
   "source": [
    "# If the data has been labeled as expected,\n",
    "# we'll see different colors below.\n",
    "plt.imshow(labeled[64]);"
   ]
  },
  {
   "cell_type": "markdown",
   "metadata": {},
   "source": [
    "#### Shut down the cluster when you're done."
   ]
  },
  {
   "cell_type": "code",
   "execution_count": 11,
   "metadata": {},
   "outputs": [],
   "source": [
    "client.cluster.close()\n",
    "client.close()"
   ]
  }
 ],
 "metadata": {
  "kernelspec": {
   "display_name": "Python 3",
   "language": "python",
   "name": "python3"
  },
  "language_info": {
   "codemirror_mode": {
    "name": "ipython",
    "version": 3
   },
   "file_extension": ".py",
   "mimetype": "text/x-python",
   "name": "python",
   "nbconvert_exporter": "python",
   "pygments_lexer": "ipython3",
   "version": "3.7.3"
  }
 },
 "nbformat": 4,
 "nbformat_minor": 4
}
